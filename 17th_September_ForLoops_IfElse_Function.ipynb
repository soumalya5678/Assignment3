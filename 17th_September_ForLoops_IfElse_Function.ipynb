{
 "cells": [
  {
   "cell_type": "code",
   "execution_count": 1,
   "id": "7aee94e8-1e03-4b5f-9a2a-b886b4aa3a85",
   "metadata": {},
   "outputs": [
    {
     "name": "stdout",
     "output_type": "stream",
     "text": [
      "1\n",
      "2\n",
      "3\n",
      "4\n",
      "5\n",
      "6\n",
      "7\n",
      "8\n",
      "9\n",
      "10\n"
     ]
    }
   ],
   "source": [
    "for i in range(1,11):\n",
    "    print(i)"
   ]
  },
  {
   "cell_type": "markdown",
   "id": "8cac841d-7c90-46ff-a1f8-215ca3336c0a",
   "metadata": {},
   "source": [
    "For loop is used to iterate over a sequence of items. While loop is used to repeatedly execute a block of statements while a condition is true."
   ]
  },
  {
   "cell_type": "code",
   "execution_count": 2,
   "id": "9e596ced-3667-4a1e-af76-1174ce5878aa",
   "metadata": {},
   "outputs": [
    {
     "name": "stdout",
     "output_type": "stream",
     "text": [
      "5050\n"
     ]
    }
   ],
   "source": [
    "sum=0\n",
    "for i in range(1,101):\n",
    "    sum=sum+i\n",
    "print(sum)\n",
    "    "
   ]
  },
  {
   "cell_type": "code",
   "execution_count": 4,
   "id": "5a0e74ba-2b0b-4e7b-b956-18447a30d4d9",
   "metadata": {},
   "outputs": [
    {
     "name": "stdout",
     "output_type": "stream",
     "text": [
      "1\n",
      "2\n",
      "6\n",
      "8\n",
      "10\n"
     ]
    }
   ],
   "source": [
    "lst=[1,2,6,8,10]\n",
    "for i in lst:\n",
    "    print(i)"
   ]
  },
  {
   "cell_type": "code",
   "execution_count": 3,
   "id": "460be82e-3ede-4672-96d2-c0f1b9917f0a",
   "metadata": {},
   "outputs": [
    {
     "name": "stdout",
     "output_type": "stream",
     "text": [
      "960\n"
     ]
    }
   ],
   "source": [
    "product=1\n",
    "lst=[1,2,6,8,10]\n",
    "for i in lst:\n",
    "    product=product*i\n",
    "print(product)"
   ]
  },
  {
   "cell_type": "code",
   "execution_count": 4,
   "id": "60af57c2-8245-4b06-a08a-a40565077496",
   "metadata": {},
   "outputs": [
    {
     "name": "stdout",
     "output_type": "stream",
     "text": [
      "2\n",
      "4\n",
      "6\n",
      "8\n",
      "10\n",
      "12\n",
      "14\n",
      "16\n",
      "18\n",
      "20\n"
     ]
    }
   ],
   "source": [
    "for i in range(1,21):\n",
    "    if i%2==0:\n",
    "        print(i)"
   ]
  },
  {
   "cell_type": "code",
   "execution_count": 10,
   "id": "4fab6320-c638-431a-a0fa-66fdba436b58",
   "metadata": {},
   "outputs": [
    {
     "name": "stdin",
     "output_type": "stream",
     "text": [
      "enter a number for factorial: 5\n"
     ]
    },
    {
     "name": "stdout",
     "output_type": "stream",
     "text": [
      "fact is : 120\n"
     ]
    }
   ],
   "source": [
    "num=int(input(\"enter a number for factorial:\"))\n",
    "fact=1\n",
    "for i in range(1,num+1):\n",
    "    fact=fact*i\n",
    "print(\"factorial is :\",fact)"
   ]
  },
  {
   "cell_type": "code",
   "execution_count": 11,
   "id": "21244dc1-2497-4f82-80e9-de8009103ddf",
   "metadata": {},
   "outputs": [
    {
     "name": "stdout",
     "output_type": "stream",
     "text": [
      "H\n",
      "e\n",
      "l\n",
      "l\n",
      "o\n",
      " \n",
      "W\n",
      "o\n",
      "r\n",
      "l\n",
      "d\n"
     ]
    }
   ],
   "source": [
    "str1=\"Hello World\"\n",
    "for i in str1:\n",
    "    print(i)"
   ]
  },
  {
   "cell_type": "code",
   "execution_count": 12,
   "id": "22a8d36c-c332-4065-95e4-f0857eaf13be",
   "metadata": {},
   "outputs": [
    {
     "name": "stdout",
     "output_type": "stream",
     "text": [
      "7\n"
     ]
    }
   ],
   "source": [
    "lst=[1,3,4,5,7,2,6]\n",
    "largest=1\n",
    "for i in lst:\n",
    "    if i>largest:\n",
    "        largest=i\n",
    "print(largest)\n",
    "    \n",
    "    "
   ]
  },
  {
   "cell_type": "code",
   "execution_count": 21,
   "id": "16c952f6-e8cc-4a25-b132-3ffd86ea7283",
   "metadata": {},
   "outputs": [
    {
     "name": "stdin",
     "output_type": "stream",
     "text": [
      "enter a number for fibonacci: 6\n"
     ]
    },
    {
     "name": "stdout",
     "output_type": "stream",
     "text": [
      "0\n",
      "1\n",
      "1\n",
      "2\n",
      "3\n",
      "5\n"
     ]
    }
   ],
   "source": [
    "num=int(input(\"enter a number for fibonacci:\"))\n",
    "a=0\n",
    "b=1\n",
    "if num==1:\n",
    "    print(a)\n",
    "else:\n",
    "    print(a)\n",
    "    print(b)\n",
    "    for i in range(1,num-1):\n",
    "        c=a+b\n",
    "        a=b\n",
    "        b=c\n",
    "        print(c)\n",
    "    "
   ]
  },
  {
   "cell_type": "code",
   "execution_count": 22,
   "id": "05c38c51-ea35-4b14-b47c-7e72432420e3",
   "metadata": {},
   "outputs": [
    {
     "name": "stdout",
     "output_type": "stream",
     "text": [
      "7\n"
     ]
    }
   ],
   "source": [
    "str1=\"hello how are you\"\n",
    "l=['a','e','i','o','u']\n",
    "count=0\n",
    "for i in str1:\n",
    "    if i in l:\n",
    "        count=count+1\n",
    "print(count)"
   ]
  },
  {
   "cell_type": "code",
   "execution_count": 23,
   "id": "e6c745dd-dd02-4101-b3f8-ce851963bd53",
   "metadata": {},
   "outputs": [
    {
     "name": "stdin",
     "output_type": "stream",
     "text": [
      "enter a number for table: 4\n"
     ]
    },
    {
     "name": "stdout",
     "output_type": "stream",
     "text": [
      "4 * 1 = 4\n",
      "4 * 2 = 8\n",
      "4 * 3 = 12\n",
      "4 * 4 = 16\n",
      "4 * 5 = 20\n",
      "4 * 6 = 24\n",
      "4 * 7 = 28\n",
      "4 * 8 = 32\n",
      "4 * 9 = 36\n",
      "4 * 10 = 40\n"
     ]
    }
   ],
   "source": [
    "num=int(input(\"enter a number for table:\"))\n",
    "for i in range(1,11):\n",
    "    print(f\"{num} * {i} = {num*i}\")\n",
    "    "
   ]
  },
  {
   "cell_type": "code",
   "execution_count": 2,
   "id": "837e3f6d-765f-4b5c-8f94-ca60af090444",
   "metadata": {},
   "outputs": [
    {
     "name": "stdout",
     "output_type": "stream",
     "text": [
      "dnuorgyalp a si siht\n"
     ]
    }
   ],
   "source": [
    "str1=\"this is a playground\"\n",
    "str2=\"\"\n",
    "for i in str1:\n",
    "    str2=i+str2\n",
    "print(str2)"
   ]
  },
  {
   "cell_type": "code",
   "execution_count": 6,
   "id": "8981e8a2-9f4f-46e7-b5db-09856cd24ea2",
   "metadata": {},
   "outputs": [
    {
     "name": "stdout",
     "output_type": "stream",
     "text": [
      "4\n"
     ]
    }
   ],
   "source": [
    "lst1=[1,2,3,4,5]\n",
    "lst2=[7,9,4,11,16]\n",
    "for i in lst1:\n",
    "    for j in lst2:\n",
    "        if i==j:\n",
    "            print(i)\n",
    "    "
   ]
  },
  {
   "cell_type": "code",
   "execution_count": null,
   "id": "b708e2c9-5f25-402b-a68c-ed714a256043",
   "metadata": {},
   "outputs": [],
   "source": []
  },
  {
   "cell_type": "code",
   "execution_count": 15,
   "id": "f92c2d52-a502-45b5-9bf4-fe4c246aac16",
   "metadata": {},
   "outputs": [
    {
     "name": "stdout",
     "output_type": "stream",
     "text": [
      "1\n",
      "2\n",
      "5\n",
      "10\n",
      "GCD is: 10\n"
     ]
    }
   ],
   "source": [
    "num1=10\n",
    "num2=20\n",
    "for i in range(1,num1+1):\n",
    "    for j in range(1,num2+1):\n",
    "        if num1%i==0:\n",
    "            if num2%j==0:\n",
    "                if i==j:\n",
    "                    print(i)\n",
    "print(\"GCD is:\",i)"
   ]
  },
  {
   "cell_type": "code",
   "execution_count": 4,
   "id": "c110d4e1-8c18-43d3-bd00-78a4ec1fc12e",
   "metadata": {},
   "outputs": [
    {
     "name": "stdout",
     "output_type": "stream",
     "text": [
      "not palindrome\n"
     ]
    }
   ],
   "source": [
    "str1=\"madam\"\n",
    "str2=\"\"\n",
    "for i in str1:\n",
    "    str2=i+str2\n",
    "if str1==str2:\n",
    "    print(\"palindrome\")\n",
    "else:\n",
    "    print(\"not palindrome\")"
   ]
  },
  {
   "cell_type": "code",
   "execution_count": 6,
   "id": "41256e76-0a57-4436-a643-59a960b794a6",
   "metadata": {},
   "outputs": [
    {
     "name": "stdin",
     "output_type": "stream",
     "text": [
      "enter a sentence: hii everyone\n"
     ]
    },
    {
     "name": "stdout",
     "output_type": "stream",
     "text": [
      "11\n"
     ]
    }
   ],
   "source": [
    "str1=input(\"enter a sentence:\")\n",
    "count=0\n",
    "for i in str1:\n",
    "    if i==\" \":\n",
    "        continue\n",
    "    else:\n",
    "        count=count+1\n",
    "print(count)"
   ]
  },
  {
   "cell_type": "code",
   "execution_count": 8,
   "id": "c70a2221-2447-403d-bb9f-f431f9fce1ad",
   "metadata": {},
   "outputs": [
    {
     "name": "stdout",
     "output_type": "stream",
     "text": [
      "625\n"
     ]
    }
   ],
   "source": [
    "count=0\n",
    "for i in range(1,51):\n",
    "    if i%2!=0:\n",
    "        count=count+i\n",
    "print(count)\n",
    "\n",
    "        "
   ]
  },
  {
   "cell_type": "code",
   "execution_count": 10,
   "id": "f543fc3b-5c6f-4b69-b4a8-bd402a0a054b",
   "metadata": {},
   "outputs": [
    {
     "name": "stdout",
     "output_type": "stream",
     "text": [
      "1.0\n",
      "1.4142135623730951\n",
      "1.7320508075688772\n",
      "2.0\n",
      "2.23606797749979\n",
      "2.449489742783178\n",
      "2.6457513110645907\n",
      "2.8284271247461903\n",
      "3.0\n",
      "3.1622776601683795\n"
     ]
    }
   ],
   "source": [
    "import math\n",
    "for i in range(1,11):\n",
    "    print(math.sqrt(i))"
   ]
  },
  {
   "cell_type": "code",
   "execution_count": 25,
   "id": "d81609ca-695b-449e-81c0-8481868c2e68",
   "metadata": {},
   "outputs": [
    {
     "name": "stdout",
     "output_type": "stream",
     "text": [
      "1\n",
      "5\n",
      "LCM is:  15\n"
     ]
    }
   ],
   "source": [
    "num1=10\n",
    "num2=15\n",
    "for i in range(1,num1+1):\n",
    "    for j in range(1,num2+1):\n",
    "        if num1%i==0:\n",
    "            if num2%j==0:\n",
    "                if i==j:\n",
    "                    print(i)\n",
    "lcm=int((num1*num2)/i)\n",
    "print(\"LCM is: \",lcm)\n"
   ]
  },
  {
   "cell_type": "code",
   "execution_count": 26,
   "id": "568dc9a5-3471-4341-8097-ae41ee4a12b9",
   "metadata": {},
   "outputs": [
    {
     "name": "stdin",
     "output_type": "stream",
     "text": [
      "enter a number to check: 3\n"
     ]
    },
    {
     "name": "stdout",
     "output_type": "stream",
     "text": [
      "odd number\n"
     ]
    }
   ],
   "source": [
    "num=int(input(\"enter a number to check:\"))\n",
    "if num%2==0:\n",
    "    print(\"even number\")\n",
    "elif num%2!=0:\n",
    "    print(\"odd number\")\n",
    "elif num==0:\n",
    "    print(\"zero\")\n",
    "else:\n",
    "    print(\"unexpected input\")\n"
   ]
  },
  {
   "cell_type": "code",
   "execution_count": 29,
   "id": "44839fbc-3240-4dc1-a8cf-1e4ede864037",
   "metadata": {},
   "outputs": [
    {
     "name": "stdin",
     "output_type": "stream",
     "text": [
      "enter a number to check: 3\n"
     ]
    },
    {
     "name": "stdout",
     "output_type": "stream",
     "text": [
      "positive number\n"
     ]
    }
   ],
   "source": [
    "num=int(input(\"enter a number to check:\"))\n",
    "if num==0:\n",
    "    print('zero')\n",
    "elif num>0:\n",
    "    print('positive number')\n",
    "elif num<0:\n",
    "    print('negative number')\n",
    "else:\n",
    "    print('unexpected innput')"
   ]
  },
  {
   "cell_type": "code",
   "execution_count": 30,
   "id": "a5b3dfa7-acd1-41ea-bcc0-baa9f36560ca",
   "metadata": {},
   "outputs": [
    {
     "name": "stdout",
     "output_type": "stream",
     "text": [
      "c is largest\n"
     ]
    }
   ],
   "source": [
    "a=5\n",
    "b=10\n",
    "c=15\n",
    "if a>b:\n",
    "    if a>c:\n",
    "        print(\"a is largest\")\n",
    "    else:\n",
    "        print(\"c is largest\")\n",
    "elif b>c:\n",
    "    print(\"b is largest\")\n",
    "else:\n",
    "    print(\"c is largest\")"
   ]
  },
  {
   "cell_type": "code",
   "execution_count": 32,
   "id": "80355556-449b-4af0-a04b-5d604c1a4ab8",
   "metadata": {},
   "outputs": [
    {
     "name": "stdin",
     "output_type": "stream",
     "text": [
      "enter a number: -4\n"
     ]
    },
    {
     "name": "stdout",
     "output_type": "stream",
     "text": [
      "4\n"
     ]
    }
   ],
   "source": [
    "num=int(input(\"enter a number:\"))\n",
    "if num>0:\n",
    "    print(num)\n",
    "elif num<0:\n",
    "    print(-num)\n",
    "else:\n",
    "    print(\"zero\")"
   ]
  },
  {
   "cell_type": "code",
   "execution_count": 34,
   "id": "9d5270ab-0d22-4e03-a266-3f5e057b41cd",
   "metadata": {},
   "outputs": [
    {
     "name": "stdin",
     "output_type": "stream",
     "text": [
      "enter a character to check: w\n"
     ]
    },
    {
     "name": "stdout",
     "output_type": "stream",
     "text": [
      "consonent\n"
     ]
    }
   ],
   "source": [
    "char=input('enter a character to check:')\n",
    "lst=['a','e','i','o','u']\n",
    "if char in lst:\n",
    "    print(\"vowel\")\n",
    "else:\n",
    "    print('consonent')"
   ]
  },
  {
   "cell_type": "code",
   "execution_count": 36,
   "id": "9c1c3373-60d6-454c-8855-35189057b5f4",
   "metadata": {},
   "outputs": [
    {
     "name": "stdin",
     "output_type": "stream",
     "text": [
      "enter your age: 21\n"
     ]
    },
    {
     "name": "stdout",
     "output_type": "stream",
     "text": [
      "you can vote\n"
     ]
    }
   ],
   "source": [
    "age=int(input('enter your age:'))\n",
    "if age>=18:\n",
    "    print(\"you can vote\")\n",
    "else:\n",
    "    print(\"you can not vote\")"
   ]
  },
  {
   "cell_type": "code",
   "execution_count": 37,
   "id": "56622f63-995a-4704-9e7e-cda28df11f34",
   "metadata": {},
   "outputs": [
    {
     "name": "stdin",
     "output_type": "stream",
     "text": [
      "enter purchase amount: 2000\n"
     ]
    },
    {
     "name": "stdout",
     "output_type": "stream",
     "text": [
      "amount after discount is:  1800.0\n"
     ]
    }
   ],
   "source": [
    "amount=int(input(\"enter purchase amount:\"))\n",
    "dis_amount=0\n",
    "if amount>=5000:\n",
    "    dis_amount=amount-amount*0.40\n",
    "    print(\"amount after discount is: \", dis_amount)\n",
    "elif amount<5000 and amount>=3000:\n",
    "    dis_amount=amount-amount*0.25\n",
    "    print(\"amount after discount is: \", dis_amount)\n",
    "elif amount<3000 and amount>=1000:\n",
    "    dis_amount=amount-amount*0.10\n",
    "    print(\"amount after discount is: \", dis_amount)\n",
    "else:\n",
    "    print(\"there is no discount\")\n"
   ]
  },
  {
   "cell_type": "code",
   "execution_count": 38,
   "id": "e0a02a95-58d7-4d7d-bec1-fb59931aa3b2",
   "metadata": {},
   "outputs": [
    {
     "name": "stdin",
     "output_type": "stream",
     "text": [
      "enter a number; 4\n",
      "enter the upper limit: 10\n",
      "enter the lower limit: 2\n"
     ]
    },
    {
     "name": "stdout",
     "output_type": "stream",
     "text": [
      "within the limit\n"
     ]
    }
   ],
   "source": [
    "num=int(input('enter a number:'))\n",
    "up_lim=int(input('enter the upper limit:'))\n",
    "low_lim=int(input('enter the lower limit:'))\n",
    "if low_lim<=num<=up_lim:\n",
    "    print('within the limit')\n",
    "else:\n",
    "    print('not within the limit')"
   ]
  },
  {
   "cell_type": "code",
   "execution_count": 39,
   "id": "c44082ce-1f39-4385-a1c5-46e17ff30417",
   "metadata": {},
   "outputs": [
    {
     "name": "stdin",
     "output_type": "stream",
     "text": [
      "enter your marks: 70\n"
     ]
    },
    {
     "name": "stdout",
     "output_type": "stream",
     "text": [
      "grade=A\n"
     ]
    }
   ],
   "source": [
    "marks=int(input(\"enter your marks:\"))\n",
    "if marks>=90 and marks<=100:\n",
    "    print(\"grade=O\")\n",
    "elif marks>=80 and marks<90:\n",
    "    print(\"grade=E\")\n",
    "elif marks>=70 and marks<80:\n",
    "    print(\"grade=A\")\n",
    "elif marks>=60 and marks<70:\n",
    "    print(\"grade=B\")\n",
    "elif marks>=50 and marks<60:\n",
    "    print(\"grade=C\")\n",
    "elif marks>=40 and marks<50:\n",
    "    print(\"grade=D\")\n",
    "elif marks>=0 and marks<40:\n",
    "    print(\"Fail\")\n",
    "else:\n",
    "    print(\"unexpected input\")"
   ]
  },
  {
   "cell_type": "code",
   "execution_count": 40,
   "id": "6fb4ec2f-3da8-40ca-a8bc-a6ae3942e744",
   "metadata": {},
   "outputs": [
    {
     "name": "stdin",
     "output_type": "stream",
     "text": [
      "enter a string: \n"
     ]
    },
    {
     "name": "stdout",
     "output_type": "stream",
     "text": [
      "empty string\n"
     ]
    }
   ],
   "source": [
    "str1=input('enter a string:')\n",
    "if len(str1)==0:\n",
    "    print('empty string')\n",
    "else:\n",
    "    print('not empty string')"
   ]
  },
  {
   "cell_type": "code",
   "execution_count": 41,
   "id": "062d833e-b1c6-4676-ab4e-b06d7e42617c",
   "metadata": {},
   "outputs": [
    {
     "name": "stdin",
     "output_type": "stream",
     "text": [
      "enter an angle value 60\n"
     ]
    },
    {
     "name": "stdout",
     "output_type": "stream",
     "text": [
      "acute angle triangle \n"
     ]
    }
   ],
   "source": [
    "angle=int(input(\"enter an angle value\"))\n",
    "if angle>0 and angle<90:\n",
    "    print(\"acute angle triangle \")\n",
    "elif angle==90:\n",
    "    print(\"right angle triangle\")\n",
    "elif angle>90 and angle<180:\n",
    "    print(\"obtuse angle triangle\")\n",
    "else:\n",
    "    print(\"not a triangle\")"
   ]
  },
  {
   "cell_type": "code",
   "execution_count": 42,
   "id": "62fff853-a836-4aa5-9776-aed346d3940c",
   "metadata": {},
   "outputs": [
    {
     "name": "stdin",
     "output_type": "stream",
     "text": [
      "enter the day number: 6\n"
     ]
    },
    {
     "name": "stdout",
     "output_type": "stream",
     "text": [
      "saturday\n"
     ]
    }
   ],
   "source": [
    "day=int(input(\"enter the day number:\"))\n",
    "if day>0 and day<=7:\n",
    "    if day==1:\n",
    "            print(\"monday\")\n",
    "    if day==2:\n",
    "            print(\"tuesday\")\n",
    "    if day==3:\n",
    "            print(\"wednesday\")\n",
    "    if day==4:\n",
    "            print(\"thursday\")\n",
    "    if day==5:\n",
    "            print(\"friday\")\n",
    "    if day==6:\n",
    "            print(\"saturday\")\n",
    "    if day==7:\n",
    "            print(\"sunday\")\n",
    "else:\n",
    "    print(\"unexpected input\")"
   ]
  },
  {
   "cell_type": "code",
   "execution_count": 44,
   "id": "28912c18-2b14-4ef6-ab1f-72c2faa0ec10",
   "metadata": {},
   "outputs": [
    {
     "name": "stdout",
     "output_type": "stream",
     "text": [
      "only leap year\n"
     ]
    }
   ],
   "source": [
    "def leap_year(year):\n",
    "    if(year%4==0):\n",
    "        if(year%400==0):\n",
    "             print(\"divisible by 400 and leap year\")\n",
    "        else:\n",
    "            print(\"only leap year\")\n",
    "    else:\n",
    "        print(\"not leap year\")\n",
    "\n",
    "leap_year(2004)\n",
    "             "
   ]
  },
  {
   "cell_type": "code",
   "execution_count": 46,
   "id": "e8fc4225-b072-4006-b68f-3811732b3e67",
   "metadata": {},
   "outputs": [
    {
     "name": "stdin",
     "output_type": "stream",
     "text": [
      "enter a character A\n"
     ]
    },
    {
     "name": "stdout",
     "output_type": "stream",
     "text": [
      "upper case character\n"
     ]
    }
   ],
   "source": [
    "char=input(\"enter a character\")\n",
    "if char.isupper()==True:\n",
    "    print(\"upper case character\")\n",
    "elif char.islower==True:\n",
    "    print(\"lower case character\")\n",
    "else:\n",
    "    print(\"special character\")"
   ]
  },
  {
   "cell_type": "code",
   "execution_count": 47,
   "id": "6759a6d9-d3a1-4c94-a1e9-ffa9f60da233",
   "metadata": {},
   "outputs": [
    {
     "name": "stdout",
     "output_type": "stream",
     "text": [
      "real and different roots\n",
      "2.0\n",
      "-12.0\n"
     ]
    }
   ],
   "source": [
    "import math\n",
    "a=1\n",
    "b=10\n",
    "c=-24\n",
    "dis=b*b-4*a*c\n",
    "sqrt_val=math.sqrt(abs(dis))\n",
    "if(dis>=0):\n",
    "    if(dis==0):\n",
    "        print(\"real and same roots\")\n",
    "        print(-b/(2*a))\n",
    "    else:\n",
    "        print(\"real and different roots\")\n",
    "        print((-b+sqrt_val)/(2*a))\n",
    "        print((-b-sqrt_val)/(2*a))\n",
    "else:\n",
    "    print(\"complex roots\")\n",
    "    print(-b/(2*a), + i, sqrt_val)\n",
    "    print(-b/(2*a), -  i, sqrt_val)"
   ]
  },
  {
   "cell_type": "code",
   "execution_count": 48,
   "id": "a48d5bdf-719f-4400-9681-79da7487b547",
   "metadata": {},
   "outputs": [
    {
     "name": "stdin",
     "output_type": "stream",
     "text": [
      "enter a year 2000\n"
     ]
    },
    {
     "name": "stdout",
     "output_type": "stream",
     "text": [
      "century year\n"
     ]
    }
   ],
   "source": [
    "year=int(input(\"enter a year\"))\n",
    "if(year%100==0):\n",
    "    print(\"century year\")\n",
    "else:\n",
    "    print(\" not century year\")"
   ]
  },
  {
   "cell_type": "code",
   "execution_count": 49,
   "id": "d63186c2-ac60-4b2c-afa6-0d92e0216199",
   "metadata": {},
   "outputs": [
    {
     "name": "stdin",
     "output_type": "stream",
     "text": [
      "enter your weight in kg: 60\n",
      "enter your height in meter 165\n"
     ]
    },
    {
     "name": "stdout",
     "output_type": "stream",
     "text": [
      "underweight\n"
     ]
    }
   ],
   "source": [
    "weight=float(input(\"enter your weight in kg:\"))\n",
    "height=float(input(\"enter your height in meter\"))\n",
    "bmi=weight/(height*height)\n",
    "if bmi<=18.4:\n",
    "    print(\"underweight\")\n",
    "elif bmi>=18.5 and bmi<=24.9:\n",
    "    print(\"normal\")\n",
    "elif bmi>=25.0 and bmi<=39.9:\n",
    "    print(\"overweight\")\n",
    "elif bmi>=40.0:\n",
    "    print(\"obese\")\n",
    "else:\n",
    "    print(\"unexpected input\")"
   ]
  },
  {
   "cell_type": "code",
   "execution_count": 50,
   "id": "c81d9f54-a350-4fa5-b6aa-3a69e74030a8",
   "metadata": {},
   "outputs": [
    {
     "name": "stdout",
     "output_type": "stream",
     "text": [
      "11 is a prime number\n"
     ]
    }
   ],
   "source": [
    "num = 11\n",
    "if num > 1:\n",
    "\tfor i in range(2, int(num/2)+1):\n",
    "\t\tif (num % i) == 0:\n",
    "\t\t\tprint(num, \"is not a prime number\")\n",
    "\t\t\tbreak\n",
    "\telse:\n",
    "\t\tprint(num, \"is a prime number\")\n",
    "else:\n",
    "\tprint(num, \"is not a prime number\")\n"
   ]
  },
  {
   "cell_type": "markdown",
   "id": "64aa86d4-3e1e-4ae0-adef-820e88d2fe2e",
   "metadata": {},
   "source": [
    "map() function returns a map object(which is an iterator) of the results after applying the given function to each item of a given iterable (list, tuple etc.)\n"
   ]
  },
  {
   "cell_type": "code",
   "execution_count": 1,
   "id": "4f89859d-5777-454b-a0fb-38e8a1694ecb",
   "metadata": {},
   "outputs": [
    {
     "name": "stdout",
     "output_type": "stream",
     "text": [
      "[2, 4, 6, 8]\n"
     ]
    }
   ],
   "source": [
    "numbers = (1, 2, 3, 4)\n",
    "result = map(lambda x: x+x, numbers)\n",
    "print(list(result))"
   ]
  },
  {
   "cell_type": "code",
   "execution_count": 3,
   "id": "854f6066-a241-4ebe-831a-22f0b1fcaeac",
   "metadata": {},
   "outputs": [
    {
     "name": "stdout",
     "output_type": "stream",
     "text": [
      "[1, 4, 9, 16, 25, 36]\n"
     ]
    }
   ],
   "source": [
    "numbers = [1, 2, 3, 4,5,6]\n",
    "result = map(lambda x: x*x, numbers)\n",
    "print(list(result))"
   ]
  },
  {
   "cell_type": "markdown",
   "id": "821c8f29-4859-403a-86d1-be2a24a3cf31",
   "metadata": {},
   "source": [
    "List comprehension can be used together with if condition as replacement of filter method. Map function has no such functionality. However, we can feed the map function output to the filter function. List comprehension returns a list, whereas the map function returns an object of Iterable."
   ]
  },
  {
   "cell_type": "code",
   "execution_count": 6,
   "id": "1dc9e270-3b9a-4734-a1c1-4614ac5dff51",
   "metadata": {},
   "outputs": [
    {
     "name": "stdout",
     "output_type": "stream",
     "text": [
      "['RAM', 'SHYAM', 'NAVIN', 'RIT']\n"
     ]
    }
   ],
   "source": [
    "lst=['ram','shyam','navin','rit']\n",
    "upper_case=list(map(lambda x: x.upper(), lst))\n",
    "print(upper_case)"
   ]
  },
  {
   "cell_type": "code",
   "execution_count": 8,
   "id": "43e8ee56-cca1-43ca-92b6-84a7d39bb03a",
   "metadata": {},
   "outputs": [
    {
     "name": "stdout",
     "output_type": "stream",
     "text": [
      "[5, 5, 3, 7]\n"
     ]
    }
   ],
   "source": [
    "lst=[\"ishan\",\"rohon\",\"jit\",\"vaibhab\"]\n",
    "length_lst=list(map(lambda x:len(x), lst))\n",
    "print(length_lst)"
   ]
  },
  {
   "cell_type": "markdown",
   "id": "b586d120-22ac-425e-a8c5-250f4050c25b",
   "metadata": {},
   "source": [
    "How To Use the Python Map Function\n",
    "map(function, iterable, [iterable 2, iterable 3, ...]) \n",
    "map(lambda item: item[] expression, iterable) \n",
    "numbers = [10, 15, 21, 33, 42, 55] \n",
    "mapped_numbers = list(map(lambda x: x * 2 + 3, numbers)) \n",
    "print(mapped_numbers)"
   ]
  },
  {
   "cell_type": "code",
   "execution_count": 10,
   "id": "da144d75-be3c-46aa-9975-a09c3bfafdab",
   "metadata": {},
   "outputs": [
    {
     "name": "stdout",
     "output_type": "stream",
     "text": [
      "[113.0, 152.60000000000002, 190.4, 203.0]\n"
     ]
    }
   ],
   "source": [
    "lst_temp_cel=[45,67,88,95]\n",
    "lst_temp_faren=list(map(lambda x:x*1.8+32,lst_temp_cel))\n",
    "print(lst_temp_faren)"
   ]
  },
  {
   "cell_type": "code",
   "execution_count": 13,
   "id": "b7522341-b4c2-4998-8a2d-b8970521cada",
   "metadata": {},
   "outputs": [
    {
     "name": "stdout",
     "output_type": "stream",
     "text": [
      "[3, 6, 8, 8, 9]\n"
     ]
    }
   ],
   "source": [
    "num_float=[2.57,6.45,7.78,8.34,9.18]\n",
    "num_int=list(map(lambda x:round(x),num_float))\n",
    "print(num_int)"
   ]
  },
  {
   "cell_type": "markdown",
   "id": "131c2c8f-89a9-493d-a746-610a26cb7db3",
   "metadata": {},
   "source": [
    "reduce() in Python. The reduce(fun,seq) function is used to apply a particular function passed in its argument to all of the list elements mentioned in the sequence passed along.This function is defined in “functools” module"
   ]
  },
  {
   "cell_type": "code",
   "execution_count": 17,
   "id": "76870390-53e0-47d1-ba46-59dc1504dc43",
   "metadata": {},
   "outputs": [
    {
     "name": "stdout",
     "output_type": "stream",
     "text": [
      "21\n"
     ]
    }
   ],
   "source": [
    "from functools import reduce\n",
    "lst1=[1,2,3,4,5,6]\n",
    "sum=reduce(lambda x,y:x+y,lst1)\n",
    "print(sum)"
   ]
  },
  {
   "cell_type": "code",
   "execution_count": 1,
   "id": "e3745419-60d9-41a2-abd8-b9678fc97fd3",
   "metadata": {},
   "outputs": [
    {
     "name": "stdout",
     "output_type": "stream",
     "text": [
      "720\n"
     ]
    }
   ],
   "source": [
    "from functools import reduce\n",
    "lst1=[1,2,3,4,5,6]\n",
    "sum=reduce(lambda x,y:x*y,lst1)\n",
    "print(sum)"
   ]
  },
  {
   "cell_type": "code",
   "execution_count": 3,
   "id": "209bde35-3692-4aa3-80b4-cf242bd291db",
   "metadata": {},
   "outputs": [
    {
     "name": "stdout",
     "output_type": "stream",
     "text": [
      "92\n"
     ]
    }
   ],
   "source": [
    "from functools import reduce\n",
    "lst1=[11,43,32,76,55,92,74,12]\n",
    "sum=reduce(lambda x,y:x if x>y else y,lst1)\n",
    "print(sum)"
   ]
  },
  {
   "cell_type": "code",
   "execution_count": 4,
   "id": "55fcb5dd-6068-40f7-8edd-f12451bd7f34",
   "metadata": {},
   "outputs": [
    {
     "name": "stdout",
     "output_type": "stream",
     "text": [
      "ramshaymjadumadhu\n"
     ]
    }
   ],
   "source": [
    "from functools import reduce\n",
    "lst1=['ram','shaym','jadu','madhu']\n",
    "sum=reduce(lambda x,y:x+y,lst1)\n",
    "print(sum)"
   ]
  },
  {
   "cell_type": "code",
   "execution_count": 7,
   "id": "4873db7a-ba63-4e27-8da0-6dc740973e65",
   "metadata": {},
   "outputs": [
    {
     "name": "stdin",
     "output_type": "stream",
     "text": [
      "enter a number for facctorial: 6\n"
     ]
    },
    {
     "name": "stdout",
     "output_type": "stream",
     "text": [
      "720\n"
     ]
    }
   ],
   "source": [
    "import functools\n",
    "n=int(input(\"enter a number for facctorial:\"))\n",
    "if n==0:\n",
    "    print(\"factorial is : 1\")\n",
    "else:\n",
    "     print(reduce(lambda x,y:x*y,range(1,n+1)))"
   ]
  },
  {
   "cell_type": "code",
   "execution_count": 12,
   "id": "063fd326-3cb9-4c99-976d-6c62dc22a55a",
   "metadata": {},
   "outputs": [
    {
     "name": "stdin",
     "output_type": "stream",
     "text": [
      "enter a number to be calculate: 456\n"
     ]
    },
    {
     "name": "stdout",
     "output_type": "stream",
     "text": [
      "15\n"
     ]
    }
   ],
   "source": [
    "num=int(input(\"enter a number to be calculate:\"))\n",
    "lst=(int(x) for x in str(num))\n",
    "print(reduce(lambda x,y:x+y,lst))"
   ]
  },
  {
   "cell_type": "markdown",
   "id": "59b7f61d-d03c-42b0-80c9-18c22a9c5fdc",
   "metadata": {},
   "source": [
    "Filter() is a built-in function in Python. The filter function can be applied to an iterable such as a list or a dictionary and create a new iterator. This new iterator can filter out certain specific elements based on the condition that you provide very efficiently"
   ]
  },
  {
   "cell_type": "code",
   "execution_count": 23,
   "id": "3af536c0-b233-4980-aa45-4b2323037bdd",
   "metadata": {},
   "outputs": [
    {
     "name": "stdout",
     "output_type": "stream",
     "text": [
      "[2, 4, 6, 8]\n"
     ]
    }
   ],
   "source": [
    "lst=[1,2,3,4,5,6,7,8,9]\n",
    "lst2=list(filter(lambda x:x%2==0,lst))\n",
    "print(lst2)"
   ]
  },
  {
   "cell_type": "code",
   "execution_count": 22,
   "id": "5510425f-97d4-4841-aeb8-d3b5f7994d36",
   "metadata": {},
   "outputs": [
    {
     "name": "stdout",
     "output_type": "stream",
     "text": [
      "['apple', 'aeroplane', 'ant']\n"
     ]
    }
   ],
   "source": [
    "lst1=['apple','aeroplane','pineapple','lion','ant','bag']\n",
    "lst2=list(filter(lambda x:x[0]=='a',lst1))\n",
    "print(lst2)"
   ]
  },
  {
   "cell_type": "code",
   "execution_count": 25,
   "id": "166b372a-053f-4aa1-9d6c-fade4e47aba8",
   "metadata": {},
   "outputs": [
    {
     "name": "stdout",
     "output_type": "stream",
     "text": [
      "[5, 6, 7, 8, 9]\n"
     ]
    }
   ],
   "source": [
    "lst=[1,2,3,4,5,6,7,8,9,3,1]\n",
    "lst2=list(filter(lambda x:x>4,lst))\n",
    "print(lst2)"
   ]
  },
  {
   "cell_type": "code",
   "execution_count": 26,
   "id": "c32a2d10-611e-4cba-b828-0a7620fc46ab",
   "metadata": {},
   "outputs": [
    {
     "name": "stdout",
     "output_type": "stream",
     "text": [
      "['apple', 'aeroplane', 'pineapple']\n"
     ]
    }
   ],
   "source": [
    "lst1=['apple','aeroplane','pineapple','lion','ant','bag']\n",
    "lst2=list(filter(lambda x:len(x)>4,lst1))\n",
    "print(lst2)"
   ]
  },
  {
   "cell_type": "markdown",
   "id": "a5b9cc6d-560f-4f02-8fac-8bf4e213d530",
   "metadata": {},
   "source": [
    "lst1=[1,2,3,4,5,6,7,8,9]\n",
    "lst2=list(filter(lambda x:x for i in range(2,int(x/2)+1)),lst1)\n",
    "print(lst2)"
   ]
  },
  {
   "cell_type": "code",
   "execution_count": 40,
   "id": "17d40694-20c3-4c98-83ba-8cd859c24e8a",
   "metadata": {},
   "outputs": [
    {
     "name": "stdout",
     "output_type": "stream",
     "text": [
      "['apple', 'aeroplane', 'pineapple', 'lion', 'ant', 'bag']\n"
     ]
    }
   ],
   "source": [
    "lst1=['apple','','aeroplane','pineapple','','lion','ant','','bag']\n",
    "lst2=list(filter(lambda x:len(x)>0,lst1))\n",
    "print(lst2)"
   ]
  },
  {
   "cell_type": "markdown",
   "id": "d85c7911-08f5-4cf0-a167-230b482adabf",
   "metadata": {},
   "source": [
    "Recursion is when a function calls itself within its code, thus repeatedly executing the instructions present inside it. Iteration is when a loop repeatedly executes the set of instructions like \"for\" loops and \"while\" loops."
   ]
  },
  {
   "cell_type": "code",
   "execution_count": 1,
   "id": "3843d379-3ec6-4726-ab9e-e5063096b34a",
   "metadata": {},
   "outputs": [
    {
     "data": {
      "text/plain": [
       "120"
      ]
     },
     "execution_count": 1,
     "metadata": {},
     "output_type": "execute_result"
    }
   ],
   "source": [
    "def fact(n):\n",
    "    if n==0:\n",
    "        return 1\n",
    "    else:\n",
    "        return n*fact(n-1)\n",
    "fact(5)"
   ]
  },
  {
   "cell_type": "code",
   "execution_count": 9,
   "id": "2058a3be-8c03-41fb-8054-8047ddc166e7",
   "metadata": {},
   "outputs": [
    {
     "data": {
      "text/plain": [
       "8"
      ]
     },
     "execution_count": 9,
     "metadata": {},
     "output_type": "execute_result"
    }
   ],
   "source": [
    "def fib(n):\n",
    "    if n<=1:\n",
    "        return n\n",
    "    else:\n",
    "        return (fib(n-1)+fib(n-2))\n",
    "fib(6)"
   ]
  },
  {
   "cell_type": "code",
   "execution_count": 12,
   "id": "8ea1a6ea-b2af-4534-b568-a49bb33e4cad",
   "metadata": {},
   "outputs": [
    {
     "data": {
      "text/plain": [
       "6"
      ]
     },
     "execution_count": 12,
     "metadata": {},
     "output_type": "execute_result"
    }
   ],
   "source": [
    "def sum(lst):\n",
    "    if len(lst)==0:\n",
    "        return 0\n",
    "    else:\n",
    "        return lst[0]+sum(lst[1:])\n",
    "sum([1,2,3])"
   ]
  },
  {
   "cell_type": "markdown",
   "id": "6c1bbcd8-c7df-415b-81e8-4e45a9f313c0",
   "metadata": {},
   "source": [
    "if you runtime system has a stack smaller than defined  DEPTH, the overflow will occur.So, to prevent stackover flow in recursive functions, you should define a depth of recursion to fit your runtime max stack depth. It will vary between different systems."
   ]
  },
  {
   "cell_type": "code",
   "execution_count": 14,
   "id": "cc1cc849-85ad-4892-89be-1d9411fd862f",
   "metadata": {},
   "outputs": [
    {
     "data": {
      "text/plain": [
       "64"
      ]
     },
     "execution_count": 14,
     "metadata": {},
     "output_type": "execute_result"
    }
   ],
   "source": [
    "def power(x,n):\n",
    "    if n==1:\n",
    "        return x\n",
    "    else:\n",
    "        return x*power(x,n-1)\n",
    "power(4,3)"
   ]
  },
  {
   "cell_type": "code",
   "execution_count": 15,
   "id": "45510a78-3fe0-45ce-8900-fdaa6cc97991",
   "metadata": {},
   "outputs": [
    {
     "data": {
      "text/plain": [
       "'olleh'"
      ]
     },
     "execution_count": 15,
     "metadata": {},
     "output_type": "execute_result"
    }
   ],
   "source": [
    "def reverse(str1):\n",
    "    if len(str1)==1:\n",
    "        return str1[0]\n",
    "    else:\n",
    "        return reverse(str1[1:]) + str1[0]\n",
    "reverse(\"hello\")"
   ]
  },
  {
   "cell_type": "code",
   "execution_count": 29,
   "id": "2d1b32f3-0d4c-44eb-9e3f-e583b49c5858",
   "metadata": {},
   "outputs": [
    {
     "data": {
      "text/plain": [
       "'not palindrome'"
      ]
     },
     "execution_count": 29,
     "metadata": {},
     "output_type": "execute_result"
    }
   ],
   "source": [
    "def reverse(str1):\n",
    "    if len(str1)==1:\n",
    "        return str1[0]\n",
    "    else:\n",
    "        str2=reverse(str1[1:]) + str1[0]\n",
    "\n",
    " \n",
    "    if str1==str2:\n",
    "        return \"palindrome\"\n",
    "    else:\n",
    "        return \"not palindrome\"\n",
    "reverse(\"elephant\")"
   ]
  },
  {
   "cell_type": "markdown",
   "id": "83917471-6b4e-48bf-80f7-2d34c4f3e912",
   "metadata": {},
   "source": [
    "Functions in Python. You use functions in programming to bundle a set of instructions that you want to use repeatedly or that, because of their complexity, are better self-contained in a sub-program and called when needed. That means that a function is a piece of code written to carry out a specified task."
   ]
  },
  {
   "cell_type": "markdown",
   "id": "72b06980-90af-48d6-8d66-aef46bfce40a",
   "metadata": {},
   "source": [
    "To define a function, Python provides the def keyword. The following is the syntax of defining a function.\n",
    "def sum(a,b)\n",
    "this is function of sum of two numbers."
   ]
  },
  {
   "cell_type": "markdown",
   "id": "abcb60ac-ae6d-4395-9913-076cfa1fc467",
   "metadata": {},
   "source": [
    "function definition means declration of a function and function call meaning by calling the function we can perform particular task again and again."
   ]
  },
  {
   "cell_type": "code",
   "execution_count": 30,
   "id": "ad031b3d-14a6-4cc8-8a94-1daa735f08cc",
   "metadata": {},
   "outputs": [
    {
     "data": {
      "text/plain": [
       "5"
      ]
     },
     "execution_count": 30,
     "metadata": {},
     "output_type": "execute_result"
    }
   ],
   "source": [
    "def sum(a,b):\n",
    "    return a+b\n",
    "sum(2,3)"
   ]
  },
  {
   "cell_type": "markdown",
   "id": "68968cea-df98-4ad2-bc89-346b6cee216f",
   "metadata": {},
   "source": [
    "A function signature consists of the function prototype. It specifies the general information about a function like the name, scope and parameters. Many programming languages use name mangling in order to pass along more semantic information from the compilers to the linkers.\n"
   ]
  },
  {
   "cell_type": "code",
   "execution_count": 31,
   "id": "545a11c0-9449-44bd-a985-010176e2e599",
   "metadata": {},
   "outputs": [
    {
     "data": {
      "text/plain": [
       "20"
      ]
     },
     "execution_count": 31,
     "metadata": {},
     "output_type": "execute_result"
    }
   ],
   "source": [
    "def product(a,b):\n",
    "    return a*b\n",
    "product(4,5)"
   ]
  },
  {
   "cell_type": "markdown",
   "id": "6ecea550-4005-4d57-80aa-2e2154e29030",
   "metadata": {},
   "source": [
    "Actual Arguments vary from Formal Parameters in that Actual Arguments are values supplied to the function when it is invoked, whereas Formal Parameters are variables declared by the function that get values when the function is called."
   ]
  },
  {
   "cell_type": "code",
   "execution_count": 33,
   "id": "3e19d006-e769-4467-a38f-a0e461f909e6",
   "metadata": {},
   "outputs": [
    {
     "name": "stdout",
     "output_type": "stream",
     "text": [
      "name is:  som\n"
     ]
    }
   ],
   "source": [
    "def name(a='som'):\n",
    "    print(\"name is: \",a)\n",
    "name()"
   ]
  },
  {
   "cell_type": "code",
   "execution_count": 36,
   "id": "546b133f-c80a-44a2-b07c-004898751581",
   "metadata": {},
   "outputs": [
    {
     "name": "stdout",
     "output_type": "stream",
     "text": [
      "First Name: Soumalya\n",
      "Last Name: Das\n"
     ]
    }
   ],
   "source": [
    "# In keyword arguments, arguments are assigned based on the name of arguments.\n",
    "\n",
    "def display_info(first_name, last_name):\n",
    "    print('First Name:', first_name)\n",
    "    print('Last Name:', last_name)\n",
    "\n",
    "display_info(last_name = 'Das', first_name = 'Soumalya')"
   ]
  },
  {
   "cell_type": "code",
   "execution_count": null,
   "id": "58559ee8-23d0-4311-a791-7e5b4ae252a4",
   "metadata": {},
   "outputs": [],
   "source": [
    "def sum_digit(n):\n",
    "    if n<=9:\n",
    "        return "
   ]
  },
  {
   "cell_type": "code",
   "execution_count": 44,
   "id": "d162eeaa-2323-43d8-82eb-bbdef380f86e",
   "metadata": {},
   "outputs": [
    {
     "data": {
      "text/plain": [
       "6"
      ]
     },
     "execution_count": 44,
     "metadata": {},
     "output_type": "execute_result"
    }
   ],
   "source": [
    "def sum_all(*n):  \n",
    "    s=0 \n",
    "    for i in n: \n",
    "        s=s+i \n",
    "    return(s) \n",
    "sum_all(1,2,3)\n",
    "    "
   ]
  },
  {
   "cell_type": "markdown",
   "id": "7c6329e0-1e4c-4403-b167-49f07e432e06",
   "metadata": {},
   "source": [
    "A return statement is used to end the execution of the function call and “returns” the result (value of the expression following the return keyword) to the caller. \n",
    "\n",
    "def sum(a,b):\n",
    "    return a+b\n",
    "sum(2,3)\n",
    "\n",
    "output will be 5"
   ]
  },
  {
   "cell_type": "markdown",
   "id": "ced83b7f-925f-4fb5-a5c8-9b48a44d76f2",
   "metadata": {},
   "source": [
    "Python Global variables are those which are not defined inside any function and have a global scope whereas Python local variables are those which are defined inside a function and their scope is limited to that function only. "
   ]
  },
  {
   "cell_type": "code",
   "execution_count": 45,
   "id": "8c1bf2fe-0f8b-4aeb-853b-9ebbaefd6090",
   "metadata": {},
   "outputs": [
    {
     "name": "stdout",
     "output_type": "stream",
     "text": [
      "Inside Function nice day\n",
      "Outside Function nice day\n"
     ]
    }
   ],
   "source": [
    "def f():\n",
    "    print(\"Inside Function\", s)\n",
    " #global scope\n",
    "s = \"nice day\"\n",
    "f()\n",
    "print(\"Outside Function\", s)"
   ]
  },
  {
   "cell_type": "code",
   "execution_count": 46,
   "id": "cc8f2840-aeaa-4e40-aa40-cdfad1739d70",
   "metadata": {},
   "outputs": [
    {
     "data": {
      "text/plain": [
       "120"
      ]
     },
     "execution_count": 46,
     "metadata": {},
     "output_type": "execute_result"
    }
   ],
   "source": [
    "def fact(n):\n",
    "    if n==0:\n",
    "        return 1\n",
    "    else:\n",
    "        return n*fact(n-1)\n",
    "fact(5)"
   ]
  },
  {
   "cell_type": "markdown",
   "id": "b1f11309-6b5b-46d5-a701-8f097339b161",
   "metadata": {},
   "source": [
    "Python Lambda Functions are anonymous function means that the function is without a name.\n",
    "\n",
    "You should use the lambda function to create simple expressions. For example, expressions that do not include complex structures such as if-else, for-loops, and so on. So, for example, if you want to create a function with a for-loop, you should use a user-defined function."
   ]
  },
  {
   "cell_type": "code",
   "execution_count": 52,
   "id": "728dfd59-3f28-4a73-b10a-0f25f583153e",
   "metadata": {},
   "outputs": [
    {
     "name": "stdout",
     "output_type": "stream",
     "text": [
      "[('Mercury', 1), ('Venus', 2), ('Earth', 3), ('Mars', 4), ('Jupiter', 5), ('Saturn', 6), ('Uranus', 7), ('Neptune', 8)]\n"
     ]
    }
   ],
   "source": [
    "planets = [(\"Earth\", 3),(\"Jupiter\",5),(\"Mercury\",1), (\"Mars\",4), (\"Neptune\",8), (\"Saturn\", 6), (\"Uranus\",7), (\"Venus\",2)]\n",
    "newList = sorted(planets, key = lambda x : x[1])\n",
    "print(newList)"
   ]
  },
  {
   "cell_type": "markdown",
   "id": "9e157873-9842-4493-8c28-87794d9c55fb",
   "metadata": {},
   "source": [
    "Higher-order functions are functions that take a function as a parameter and/or return a function as an output. A few useful higher-order functions are map() , filter() , and reduce() ."
   ]
  },
  {
   "cell_type": "code",
   "execution_count": 54,
   "id": "c797d8ba-63b0-4bdb-8961-7f4abfd4a9a7",
   "metadata": {},
   "outputs": [
    {
     "name": "stdout",
     "output_type": "stream",
     "text": [
      "[3, 4, 5, 6]\n"
     ]
    }
   ],
   "source": [
    "lst=[1,2,3,4]\n",
    "lst2=list(map(lambda x:x+2,lst))\n",
    "print(lst2)"
   ]
  },
  {
   "cell_type": "code",
   "execution_count": 56,
   "id": "b13fcc32-b7f0-4620-a273-983bd4ec41da",
   "metadata": {},
   "outputs": [
    {
     "name": "stdout",
     "output_type": "stream",
     "text": [
      "120\n"
     ]
    }
   ],
   "source": [
    "from functools import reduce\n",
    "lst=[1,2,3,4,5]\n",
    "product=reduce(lambda x,y:x*y,lst)\n",
    "print(product)"
   ]
  }
 ],
 "metadata": {
  "kernelspec": {
   "display_name": "Python 3 (ipykernel)",
   "language": "python",
   "name": "python3"
  },
  "language_info": {
   "codemirror_mode": {
    "name": "ipython",
    "version": 3
   },
   "file_extension": ".py",
   "mimetype": "text/x-python",
   "name": "python",
   "nbconvert_exporter": "python",
   "pygments_lexer": "ipython3",
   "version": "3.10.8"
  }
 },
 "nbformat": 4,
 "nbformat_minor": 5
}
